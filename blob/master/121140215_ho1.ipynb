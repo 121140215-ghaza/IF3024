{
 "cells": [
  {
   "cell_type": "markdown",
   "metadata": {},
   "source": []
  },
  {
   "cell_type": "markdown",
   "metadata": {},
   "source": [
    "# Hands On 1\n",
    "\n",
    "## ℹ️ Instruksi Tugas\n",
    "\n",
    "1. **Membuat Gelombang Sinus dan Cosinus**:\n",
    "   - Buat array `t` yang berkisar dari 0 hingga 2 dengan langkah sebesar 0.0001.\n",
    "   - Buat sinyal-sinyal berikut menggunakan array waktu ini:\n",
    "     1. $y1 = 2 \\cdot \\sin(2 \\pi \\cdot 3 \\cdot t + 0)$\n",
    "     2. $y2 = 1 \\cdot \\cos(2 \\pi \\cdot 4 \\cdot t + \\pi/4)$\n",
    "     3. $y3 = -1 \\cdot \\sin(2 \\pi \\cdot 5 \\cdot t + \\pi/2)$\n",
    "     4. $y4 = 0.5 \\cdot \\cos(2 \\pi \\cdot 6 \\cdot t + \\pi)$\n",
    "\n",
    "2. **Perbandingan Subplot**:\n",
    "   - Buat gambar dengan 4 subplot (grid 2x2) untuk membandingkan semua sinyal secara berdampingan.\n",
    "   - Setiap subplot harus berisi salah satu sinyal \\( y1 \\), \\( y2 \\), \\( y3 \\), dan \\( y4 \\).\n",
    "\n",
    "3. **Pertanyaan Analisis**:\n",
    "   - Jawab pertanyaan berikut dalam sel markdown di Jupyter Notebook Anda:\n",
    "     1. Berapa amplitudo dan frekuensi masing-masing sinyal?\n",
    "     2. Bagaimana pergeseran fase mempengaruhi posisi gelombang? (Anda dapat mengubah nilai fase pada sinyal-sinyal yang telah dibuat sesuka anda)\n",
    "     3. Bandingkan sinyal-sinyal dengan amplitudo yang berbeda dan diskusikan bagaimana amplitudo mempengaruhi tampilan gelombang.\n",
    "     4. Bandingkan sinyal-sinyal dengan pergeseran fase yang berbeda dan diskusikan bagaimana pergeseran fase mempengaruhi tampilan gelombang.\n",
    "\n",
    "4. **Tugas Lanjutan**:\n",
    "   - Buat sinyal baru $y5$ yang merupakan kombinasi dari $y1$ dan $y2$ yaitu, $y5 = y1 + y2$.\n",
    "   - Plot $y5$ dan diskusikan bagaimana kombinasi dua gelombang sinus/cosinus mempengaruhi bentuk gelombang yang dihasilkan.\n",
    "\n",
    "\n",
    "## Identitas Diri\n",
    "<div style=\"text-align: left;\">\n",
    "<table>\n",
    "    <tr>\n",
    "        <th>Nama</th>\n",
    "        <th>Nomor Induk Mahasiswa</th>\n",
    "    </tr>\n",
    "    <tr>\n",
    "        <td>Ghaza Muhammad Al Ghifari</td>\n",
    "        <td>121140215</td>\n",
    "    </tr>\n",
    "</table>\n",
    "</div>\n",
    "\n",
    "## Mata Kuliah\n",
    "Sistem/Teknologi Multimedia (IF4201) \n",
    "____"
   ]
  },
  {
   "cell_type": "markdown",
   "metadata": {},
   "source": [
    "## Menginstal Library\n",
    "Instal library yang akan dibutuhkan dalam tugas ini, dalam kasus ini diperlukan hal-hal berikut:\n",
    "- Library `numpy`\n",
    "- Library `matplotlib`\n",
    "- Library `OS`\n",
    "- Library `wave`\n",
    "\n",
    "Perintah Alat Library\n",
    "*`!pip install matplotlib numpy wave`*"
   ]
  },
  {
   "cell_type": "markdown",
   "metadata": {},
   "source": [
    "## ℹ️ Jawaban\n",
    "\n"
   ]
  },
  {
   "cell_type": "markdown",
   "metadata": {},
   "source": [
    "1. **Membuat Gelombang Sinus dan Cosinus**:"
   ]
  },
  {
   "cell_type": "code",
   "execution_count": null,
   "metadata": {},
   "outputs": [],
   "source": [
    "import numpy as np\n",
    "import matplotlib.pyplot as plt\n",
    "\n",
    "# Membuat array t dari 0 hingga 2 dengan langkah 0.0001\n",
    "t = np.arange(0, 2, 0.0001)\n",
    "\n",
    "# Membuat sinyal-sinyal\n",
    "y1 = 2 * np.sin(2 * np.pi * 3 * t + 0)\n",
    "y2 = 1 * np.cos(2 * np.pi * 4 * t + np.pi / 4)\n",
    "y3 = -1 * np.sin(2 * np.pi * 5 * t + np.pi / 2)\n",
    "y4 = 0.5 * np.cos(2 * np.pi * 6 * t + np.pi)\n",
    "\n",
    "# Membuat plot untuk setiap sinyal\n",
    "plt.figure(figsize=(10, 8))\n",
    "\n",
    "# Plot y1\n",
    "plt.subplot(4, 1, 1)\n",
    "plt.plot(t, y1)\n",
    "plt.title(r'$y1 = 2 \\cdot \\sin(2 \\pi \\cdot 3 \\cdot t + 0)$')\n",
    "\n",
    "# Plot y2\n",
    "plt.subplot(4, 1, 2)\n",
    "plt.plot(t, y2)\n",
    "plt.title(r'$y2 = 1 \\cdot \\cos(2 \\pi \\cdot 4 \\cdot t + \\frac{\\pi}{4})$')\n",
    "\n",
    "# Plot y3\n",
    "plt.subplot(4, 1, 3)\n",
    "plt.plot(t, y3)\n",
    "plt.title(r'$y3 = -1 \\cdot \\sin(2 \\pi \\cdot 5 \\cdot t + \\frac{\\pi}{2})$')\n",
    "\n",
    "# Plot y4\n",
    "plt.subplot(4, 1, 4)\n",
    "plt.plot(t, y4)\n",
    "plt.title(r'$y4 = 0.5 \\cdot \\cos(2 \\pi \\cdot 6 \\cdot t + \\pi)$')\n",
    "\n",
    "# Mengatur layout agar tidak tumpang tindih\n",
    "plt.tight_layout()\n",
    "plt.show()\n"
   ]
  },
  {
   "cell_type": "markdown",
   "metadata": {},
   "source": [
    "![Gambar Hasil](hasil/1.png)"
   ]
  },
  {
   "cell_type": "markdown",
   "metadata": {},
   "source": [
    "2. **Perbandingan Subplot**:"
   ]
  },
  {
   "cell_type": "code",
   "execution_count": null,
   "metadata": {},
   "outputs": [],
   "source": [
    "# Membuat gambar dengan 4 subplot (grid 2x2) untuk membandingkan semua sinyal\n",
    "plt.figure(figsize=(10, 8))\n",
    "\n",
    "# Subplot 1: y1\n",
    "plt.subplot(2, 2, 1)\n",
    "plt.plot(t, y1)\n",
    "plt.title(r'$y1 = 2 \\cdot \\sin(2 \\pi \\cdot 3 \\cdot t + 0)$')\n",
    "\n",
    "# Subplot 2: y2\n",
    "plt.subplot(2, 2, 2)\n",
    "plt.plot(t, y2)\n",
    "plt.title(r'$y2 = 1 \\cdot \\cos(2 \\pi \\cdot 4 \\cdot t + \\frac{\\pi}{4})$')\n",
    "\n",
    "# Subplot 3: y3\n",
    "plt.subplot(2, 2, 3)\n",
    "plt.plot(t, y3)\n",
    "plt.title(r'$y3 = -1 \\cdot \\sin(2 \\pi \\cdot 5 \\cdot t + \\frac{\\pi}{2})$')\n",
    "\n",
    "# Subplot 4: y4\n",
    "plt.subplot(2, 2, 4)\n",
    "plt.plot(t, y4)\n",
    "plt.title(r'$y4 = 0.5 \\cdot \\cos(2 \\pi \\cdot 6 \\cdot t + \\pi)$')\n",
    "\n",
    "# Mengatur layout agar tidak tumpang tindih\n",
    "plt.tight_layout()\n",
    "plt.show()\n"
   ]
  },
  {
   "cell_type": "markdown",
   "metadata": {},
   "source": [
    "![Gambar Hasil](hasil/2.png)"
   ]
  },
  {
   "cell_type": "markdown",
   "metadata": {},
   "source": [
    "3. **Pertanyaan Analisis**:"
   ]
  },
  {
   "cell_type": "code",
   "execution_count": null,
   "metadata": {},
   "outputs": [],
   "source": [
    "\n",
    "import numpy as np\n",
    "import matplotlib.pyplot as plt\n",
    "\n",
    "# Membuat array t dari 0 hingga 2 dengan langkah 0.0001\n",
    "t = np.arange(0, 2, 0.0001)\n",
    "\n",
    "# Membuat sinyal-sinyal\n",
    "y1 = 2 * np.sin(2 * np.pi * 3 * t + 0)\n",
    "y2 = 1 * np.cos(2 * np.pi * 4 * t + np.pi / 4)\n",
    "y3 = -1 * np.sin(2 * np.pi * 5 * t + np.pi / 2)\n",
    "y4 = 0.5 * np.cos(2 * np.pi * 6 * t + np.pi)\n",
    "\n",
    "# Membuat plot untuk setiap sinyal\n",
    "plt.figure(figsize=(10, 8))\n",
    "\n",
    "# Plot y1\n",
    "plt.subplot(4, 1, 1)\n",
    "plt.plot(t, y1)\n",
    "plt.title(r'$y1 = 2 \\cdot \\sin(2 \\pi \\cdot 3 \\cdot t + 0)$')\n",
    "\n",
    "# Plot y2\n",
    "plt.subplot(4, 1, 2)\n",
    "plt.plot(t, y2)\n",
    "plt.title(r'$y2 = 1 \\cdot \\cos(2 \\pi \\cdot 4 \\cdot t + \\frac{\\pi}{4})$')\n",
    "\n",
    "# Plot y3\n",
    "plt.subplot(4, 1, 3)\n",
    "plt.plot(t, y3)\n",
    "plt.title(r'$y3 = -1 \\cdot \\sin(2 \\pi \\cdot 5 \\cdot t + \\frac{\\pi}{2})$')\n",
    "\n",
    "# Plot y4\n",
    "plt.subplot(4, 1, 4)\n",
    "plt.plot(t, y4)\n",
    "plt.title(r'$y4 = 0.5 \\cdot \\cos(2 \\pi \\cdot 6 \\cdot t + \\pi)$')\n",
    "\n",
    "# Mengatur layout agar tidak tumpang tindih\n",
    "plt.tight_layout()\n",
    "plt.show()\n"
   ]
  },
  {
   "cell_type": "markdown",
   "metadata": {},
   "source": [
    "![Gambar Hasil](hasil/3.png)"
   ]
  },
  {
   "cell_type": "markdown",
   "metadata": {},
   "source": [
    "A. **Berapa amplitudo dan frekuensi masing-masing sinyal?**:\n",
    "\n",
    "   - **Sinyal y1**: \n",
    "     - Amplitudo: 2 (dari persamaan \\( y1 = 2 \\cdot \\sin(2 \\pi \\cdot 3 \\cdot t + 0) \\))\n",
    "     - Frekuensi: 3 Hz (karena frekuensi di dalam persamaan adalah 3)\n",
    "   - **Sinyal y2**:\n",
    "     - Amplitudo: 1 (dari persamaan \\( y2 = 1 \\cdot \\cos(2 \\pi \\cdot 4 \\cdot t + \f\n",
    "rac{\\pi}{4}) \\))\n",
    "     - Frekuensi: 4 Hz (karena frekuensi di dalam persamaan adalah 4)\n",
    "   - **Sinyal y3**:\n",
    "     - Amplitudo: 1 (dari persamaan \\( y3 = -1 \\cdot \\sin(2 \\pi \\cdot 5 \\cdot t + \f\n",
    "rac{\\pi}{2}) \\))\n",
    "     - Frekuensi: 5 Hz (karena frekuensi di dalam persamaan adalah 5)\n",
    "   - **Sinyal y4**:\n",
    "     - Amplitudo: 0.5 (dari persamaan \\( y4 = 0.5 \\cdot \\cos(2 \\pi \\cdot 6 \\cdot t + \\pi) \\))\n",
    "     - Frekuensi: 6 Hz (karena frekuensi di dalam persamaan adalah 6)\n",
    "\n",
    "B. **Bagaimana pergeseran fase mempengaruhi posisi gelombang?**: \n",
    "   - Pergeseran fase menentukan posisi awal dari gelombang. Misalnya, dalam sinyal \\( y2 \\) dan \\( y4 \\), kita memiliki pergeseran fase sebesar \\( \f\n",
    "rac{\\pi}{4} \\) dan \\( \\pi \\) berturut-turut. \n",
    "   \n",
    "   - Pergeseran fase positif menggeser gelombang ke kiri, dan nilai negatif menggeser gelombang ke kanan.\n",
    "   - Dalam sinyal \\( y2 \\), fase sebesar \\( \f\n",
    "rac{\\pi}{4} \\) menyebabkan gelombang dimulai sedikit lebih awal.\n",
    "   - Dalam sinyal \\( y4 \\), fase sebesar \\( \\pi \\) membuat gelombang mulai dari posisi yang berlawanan.\n",
    "\n",
    "   Anda dapat bereksperimen dengan mengubah nilai fase untuk melihat bagaimana ini menggeser posisi gelombang.\n",
    "\n",
    "C. **Bandingkan sinyal-sinyal dengan amplitudo yang berbeda dan diskusikan bagaimana amplitudo mempengaruhi tampilan gelombang.**:  \n",
    "   - Amplitudo menentukan **tinggi** atau **intensitas** dari gelombang. Semakin besar amplitudo, semakin tinggi puncak dan lembah gelombang.\n",
    "   - Misalnya, sinyal \\( y1 \\) memiliki amplitudo terbesar (2), sehingga puncak dan lembah gelombang lebih tinggi dibandingkan dengan sinyal lainnya.\n",
    "   - Sinyal \\( y4 \\) memiliki amplitudo terkecil (0.5), sehingga puncak dan lembah gelombang jauh lebih pendek dibandingkan sinyal lainnya.\n",
    "   - Amplitudo hanya mempengaruhi tinggi gelombang, tetapi tidak mengubah frekuensi atau posisi.\n",
    "\n",
    "\n",
    "D. **Bandingkan sinyal-sinyal dengan pergeseran fase yang berbeda dan diskusikan bagaimana pergeseran fase mempengaruhi tampilan gelombang.**:  \n",
    "\n",
    "   - Pergeseran fase menentukan **di mana** gelombang dimulai. Misalnya, pada sinyal \\( y2 \\) dan \\( y4 \\), pergeseran fase \\( \f\n",
    "rac{\\pi}{4} \\) dan \\( \\pi \\) menggeser posisi gelombang.\n",
    "   - Sinyal dengan fase lebih besar terlihat seperti bergeser ke kiri, sedangkan yang tanpa fase tambahan dimulai di titik nol.\n",
    "   - Dengan kata lain, pergeseran fase mengatur waktu awal osilasi gelombang, namun tidak mengubah tinggi (amplitudo) atau seberapa sering gelombang berosilasi (frekuensi).\n",
    "   "
   ]
  },
  {
   "cell_type": "markdown",
   "metadata": {},
   "source": [
    "4. **Tugas Lanjutan**:"
   ]
  },
  {
   "cell_type": "code",
   "execution_count": null,
   "metadata": {},
   "outputs": [],
   "source": [
    "# Membuat sinyal baru y5 yang merupakan kombinasi dari y1 dan y2\n",
    "y5 = y1 + y2\n",
    "\n",
    "# Plot y5\n",
    "plt.figure(figsize=(10, 5))\n",
    "plt.plot(t, y5)\n",
    "plt.title(r'$y5 = y1 + y2$')\n",
    "plt.xlabel('Time (t)')\n",
    "plt.ylabel('Amplitude')\n",
    "plt.grid(True)\n",
    "plt.show()\n"
   ]
  },
  {
   "cell_type": "markdown",
   "metadata": {},
   "source": [
    "![Gambar Hasil](hasil/4.png)"
   ]
  },
  {
   "cell_type": "markdown",
   "metadata": {},
   "source": [
    "\n",
    "# Diskusi Kombinasi Dua Gelombang\n",
    "\n",
    "## 1. Superposisi Gelombang:\n",
    "- Ketika dua gelombang digabungkan (dalam hal ini y1 dan y2), hasilnya adalah superposisi atau penjumlahan dari kedua gelombang tersebut.\n",
    "- Karena y1 adalah gelombang sinus dengan frekuensi 3 Hz dan y2 adalah gelombang cosinus dengan frekuensi 4 Hz, bentuk gelombang y5 merupakan kombinasi dari karakteristik kedua gelombang tersebut.\n",
    "\n",
    "## 2. Pengaruh Amplitudo dan Frekuensi:\n",
    "- Frekuensi kedua gelombang berbeda (3 Hz dan 4 Hz), sehingga kombinasi mereka menghasilkan gelombang dengan pola yang kompleks (terlihat berosilasi dengan cepat).\n",
    "- Amplitudo dari y1 (2) lebih besar daripada y2 (1), sehingga kontribusi dari y1 lebih dominan dalam membentuk puncak dan lembah dari y5.\n",
    "\n",
    "## 3. Pergeseran Fase:\n",
    "- Pergeseran fase pada y2 menyebabkan kedua gelombang tidak sejajar sempurna pada titik awal. Ini menciptakan sedikit pergeseran dalam hasil akhir y5, yang terlihat dari bagaimana puncak dan lembah gelombang saling bertumpuk atau membatalkan sebagian satu sama lain.\n"
   ]
  },
  {
   "cell_type": "markdown",
   "metadata": {},
   "source": [
    "Bantuan jawaban dari pertanyaan yang ada di Hads On 1 ini dari Chat Gpt, dan inilah link yang saya tanyakan dan saya pelajarin dari : https://chatgpt.com/share/66f7ec21-511c-8007-81b6-ceb78cd1435d"
   ]
  }
 ],
 "metadata": {
  "kernelspec": {
   "display_name": "dsp",
   "language": "python",
   "name": "python3"
  },
  "language_info": {
   "codemirror_mode": {
    "name": "ipython",
    "version": 3
   },
   "file_extension": ".py",
   "mimetype": "text/x-python",
   "name": "python",
   "nbconvert_exporter": "python",
   "pygments_lexer": "ipython3",
   "version": "3.12.5"
  }
 },
 "nbformat": 4,
 "nbformat_minor": 2
}
